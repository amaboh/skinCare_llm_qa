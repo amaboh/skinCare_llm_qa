{
 "cells": [
  {
   "cell_type": "code",
   "execution_count": 2,
   "id": "16583cac",
   "metadata": {},
   "outputs": [
    {
     "name": "stdout",
     "output_type": "stream",
     "text": [
      "Collecting pytube\n",
      "  Using cached pytube-15.0.0-py3-none-any.whl (57 kB)\n",
      "Installing collected packages: pytube\n",
      "Successfully installed pytube-15.0.0\n",
      "\n",
      "\u001b[1m[\u001b[0m\u001b[34;49mnotice\u001b[0m\u001b[1;39;49m]\u001b[0m\u001b[39;49m A new release of pip is available: \u001b[0m\u001b[31;49m23.3.2\u001b[0m\u001b[39;49m -> \u001b[0m\u001b[32;49m24.0\u001b[0m\n",
      "\u001b[1m[\u001b[0m\u001b[34;49mnotice\u001b[0m\u001b[1;39;49m]\u001b[0m\u001b[39;49m To update, run: \u001b[0m\u001b[32;49mpip install --upgrade pip\u001b[0m\n"
     ]
    }
   ],
   "source": [
    "!pip install pytube"
   ]
  },
  {
   "cell_type": "markdown",
   "id": "d391c1f1",
   "metadata": {},
   "source": [
    "#### Importing libraries"
   ]
  },
  {
   "cell_type": "code",
   "execution_count": 15,
   "id": "076c7799",
   "metadata": {},
   "outputs": [],
   "source": [
    "from pytube import YouTube\n",
    "import numpy as np\n",
    "import whisper\n",
    "import os\n",
    "import pandas as pd"
   ]
  },
  {
   "cell_type": "code",
   "execution_count": 2,
   "id": "8b7f79a3",
   "metadata": {},
   "outputs": [],
   "source": [
    "link = 'https://www.youtube.com/watch?v=nlc_Mk9ct94'"
   ]
  },
  {
   "cell_type": "markdown",
   "id": "230a764c",
   "metadata": {},
   "source": [
    "###### making connection to youtueb"
   ]
  },
  {
   "cell_type": "code",
   "execution_count": 3,
   "id": "3197ffb5",
   "metadata": {},
   "outputs": [],
   "source": [
    "try:\n",
    "    # \n",
    "    yt = YouTube(link)\n",
    "except:\n",
    "    print(\"Connection Error\")"
   ]
  },
  {
   "cell_type": "code",
   "execution_count": 4,
   "id": "d3f8897c",
   "metadata": {},
   "outputs": [
    {
     "data": {
      "text/plain": [
       "[<Stream: itag=\"18\" mime_type=\"video/mp4\" res=\"360p\" fps=\"24fps\" vcodec=\"avc1.42001E\" acodec=\"mp4a.40.2\" progressive=\"True\" type=\"video\">, <Stream: itag=\"22\" mime_type=\"video/mp4\" res=\"720p\" fps=\"24fps\" vcodec=\"avc1.64001F\" acodec=\"mp4a.40.2\" progressive=\"True\" type=\"video\">, <Stream: itag=\"137\" mime_type=\"video/mp4\" res=\"1080p\" fps=\"24fps\" vcodec=\"avc1.640028\" progressive=\"False\" type=\"video\">, <Stream: itag=\"136\" mime_type=\"video/mp4\" res=\"720p\" fps=\"24fps\" vcodec=\"avc1.4d401f\" progressive=\"False\" type=\"video\">, <Stream: itag=\"135\" mime_type=\"video/mp4\" res=\"480p\" fps=\"24fps\" vcodec=\"avc1.4d401e\" progressive=\"False\" type=\"video\">, <Stream: itag=\"134\" mime_type=\"video/mp4\" res=\"360p\" fps=\"24fps\" vcodec=\"avc1.4d401e\" progressive=\"False\" type=\"video\">, <Stream: itag=\"133\" mime_type=\"video/mp4\" res=\"240p\" fps=\"24fps\" vcodec=\"avc1.4d4015\" progressive=\"False\" type=\"video\">, <Stream: itag=\"160\" mime_type=\"video/mp4\" res=\"144p\" fps=\"24fps\" vcodec=\"avc1.4d400c\" progressive=\"False\" type=\"video\">, <Stream: itag=\"139\" mime_type=\"audio/mp4\" abr=\"48kbps\" acodec=\"mp4a.40.5\" progressive=\"False\" type=\"audio\">, <Stream: itag=\"140\" mime_type=\"audio/mp4\" abr=\"128kbps\" acodec=\"mp4a.40.2\" progressive=\"False\" type=\"audio\">]"
      ]
     },
     "execution_count": 4,
     "metadata": {},
     "output_type": "execute_result"
    }
   ],
   "source": [
    "yt.streams.filter(file_extension='mp4')"
   ]
  },
  {
   "cell_type": "code",
   "execution_count": 5,
   "id": "ed2215ee",
   "metadata": {},
   "outputs": [],
   "source": [
    "stream = yt.streams.get_by_itag(139)"
   ]
  },
  {
   "cell_type": "code",
   "execution_count": 23,
   "id": "d6b529e1",
   "metadata": {},
   "outputs": [],
   "source": [
    "output_directory_external_yt = \"../data/external\"\n",
    "file_name = \"dr_v_1.mp4\""
   ]
  },
  {
   "cell_type": "code",
   "execution_count": 20,
   "id": "f9809bf4",
   "metadata": {},
   "outputs": [
    {
     "data": {
      "text/plain": [
       "'/Volumes/AM/Desktop/Projects/skinCare_llm_qa/notebooks/../data/external/dr_v_1.mp4'"
      ]
     },
     "execution_count": 20,
     "metadata": {},
     "output_type": "execute_result"
    }
   ],
   "source": [
    "stream.download(output_directory_external_yt, file_name\")"
   ]
  },
  {
   "cell_type": "markdown",
   "id": "16c78170",
   "metadata": {},
   "source": [
    "###### Utilizing whsiper tp transcribe text from youtube downloaded video"
   ]
  },
  {
   "cell_type": "code",
   "execution_count": 7,
   "id": "a7de6972",
   "metadata": {},
   "outputs": [
    {
     "name": "stdout",
     "output_type": "stream",
     "text": [
      "Model is multilingual and has 71,825,920 parameters.\n"
     ]
    }
   ],
   "source": [
    "\n",
    "\n",
    "model = whisper.load_model(\"base\")\n",
    "print(\n",
    "    f\"Model is {'multilingual' if model.is_multilingual else 'English-only'} \"\n",
    "    f\"and has {sum(np.prod(p.shape) for p in model.parameters()):,} parameters.\"\n",
    ")"
   ]
  },
  {
   "cell_type": "code",
   "execution_count": 27,
   "id": "2e54c6e7",
   "metadata": {},
   "outputs": [
    {
     "name": "stdout",
     "output_type": "stream",
     "text": [
      "Detecting language using up to the first 30 seconds. Use `--language` to specify the language\n",
      "Detected language: English\n",
      "[00:00.000 --> 00:06.000]  Cute and safe skincare for pre-tunes. As a doctor, cosmetic formulae, and a mum of a 10-year-old,\n",
      "[00:06.000 --> 00:10.560]  I'm going to be teaching you the best and worst skincare. I'll be teaching you the cute products\n",
      "[00:10.560 --> 00:16.480]  to buy and which ones to avoid. The key active that we want in our skincare, my favourite products\n",
      "[00:16.480 --> 00:21.760]  that I buy from my daughter, and of course the routine, step by step, how do you layer it?\n",
      "[00:21.760 --> 00:25.760]  As you know, none of my videos have ever been sponsored and they will never be sponsored.\n",
      "[00:25.840 --> 00:31.200]  There's an evidence-based channel. I'm now going to tell you what I do like, starting off with\n",
      "[00:31.200 --> 00:37.920]  the key ingredients. Your children need ceramides in their skin. They want glycerin, so a humectants,\n",
      "[00:37.920 --> 00:42.240]  I mean, a whole water in that top layer of skin. Plus you want 19-year-old plantatories to\n",
      "[00:42.240 --> 00:49.200]  soothe the skin. What you want to avoid are exfoliating acids, fragrance, denigered alcohol,\n",
      "[00:49.200 --> 00:55.280]  scrub, so physical scrubbing, including dry scrubbing, retinol and lesics for acne,\n",
      "[00:55.360 --> 00:59.280]  and also you want to avoid high percentage active such as lysinamide. So, for example,\n",
      "[00:59.280 --> 01:04.880]  the 10% lysinamide from the ordinary, I would avoid. You know, if you want to go for a 2% lysinamide\n",
      "[01:04.880 --> 01:11.120]  and moisturize, that's fine. It's very strengthening to the skin barrier, but at 10%, it's going to be\n",
      "[01:11.120 --> 01:16.320]  too harsh. Actually, the fact that physical studies are done between 2 to 5% even for adult skin.\n",
      "[01:16.320 --> 01:20.560]  So I explained all of this to my ten-year-old daughter and she said, Mummy, can you just find me what\n",
      "[01:20.720 --> 01:26.800]  you think is good, but in bright and cute packaging. And I said no problem. So my key\n",
      "[01:26.800 --> 01:32.320]  brands that I would recommend would be Bubbles and Biomell. Having said that, I wouldn't recommend\n",
      "[01:32.320 --> 01:36.320]  every single product in that range, but I will put together the ones that I love that I would\n",
      "[01:36.320 --> 01:40.400]  recommend for my daughter and for your children. So I'm going to go through three different routines\n",
      "[01:40.400 --> 01:45.520]  with you. If you have normal skin, if you have oily skin, or if you have dry skin. And normal\n",
      "[01:45.520 --> 01:49.600]  skin is if you wash your face and you don't apply any moisturizer one hour later, your skin\n",
      "[01:49.600 --> 01:54.400]  should still feel quite supple, not too dry and tight and not too oily. That's normal slash\n",
      "[01:54.400 --> 01:59.840]  combination skin. That's what my daughter has. Then if you want our later having applied moisturizer\n",
      "[01:59.840 --> 02:06.160]  and the skin feels very tight and uncomfortable, you have dry skin. And if one hour later, your skin\n",
      "[02:06.160 --> 02:11.120]  is feeling quite oily, it's got a bit of a shine to it, then you have oily skin. So I'm going to\n",
      "[02:11.120 --> 02:16.400]  tell you the three different routines based on your skin type. So in the AM, I love the Biomagely\n",
      "[02:16.480 --> 02:22.000]  Cleanser. It's got so much in it, it's got glycerin and it's anti-inflammatory. Follow this up\n",
      "[02:22.000 --> 02:27.040]  with your bubble moisturizer. And in the morning, you always want to wear your SPF50. Now, I really\n",
      "[02:27.040 --> 02:31.840]  couldn't find a cute one because I tend to prefer mineral over chemical. It doesn't enter the blood\n",
      "[02:31.840 --> 02:36.880]  stream, which is why we tend to say to pregnant ladies, make sure that you wearing mineral sunscreen\n",
      "[02:36.880 --> 02:41.600]  over chemical. So there are two. It's either our one, which is insincable, there's got no white\n",
      "[02:42.320 --> 02:47.680]  or it's color science. In the PM routine, you want to cleanse the skin and you may want to double\n",
      "[02:47.680 --> 02:52.640]  cleanse when you want to wash twice. And then because my daughter loves me wearing my own hydrating\n",
      "[02:52.640 --> 02:58.560]  toner, she asked for a mist. There's a couple that I recommend. I do like the Biomar Balancing Rest,\n",
      "[02:58.560 --> 03:06.000]  but I also like the one from Centella Cos RX, it's alcohol-free and K Beauty is huge. And in fact,\n",
      "[03:06.000 --> 03:10.960]  I think our kids don't know about K Beauty more than we do even, but this is one that I would recommend.\n",
      "[03:10.960 --> 03:16.560]  And then after your mist, always apply your moisturizer. If you have oily skin, I prefer the Biomar\n",
      "[03:16.560 --> 03:22.640]  Gel Cream. And if you have dry skin, I like the Biomar Rich Cream. And when it comes to sheet masks,\n",
      "[03:22.640 --> 03:28.080]  be very careful, which ones you choose. The really cute ones are 10 to have fragrance in them,\n",
      "[03:28.080 --> 03:32.880]  and actually tend to be irritating to your skin. I love wearing sheet masks. I tend to do it once\n",
      "[03:32.880 --> 03:38.080]  a week. I say go for biodegradable, that's going to be key. And the one that I buy for my daughter,\n",
      "[03:38.080 --> 03:43.280]  the simple ones. So this one has got nice inner my internet, is very hydrating to the skin.\n",
      "[03:43.280 --> 03:49.040]  It makes your skin feel plumper. It makes it feel like you've given that extra boost of nourishment\n",
      "[03:49.040 --> 03:53.920]  to the skin. So you're going to really enjoy doing your sheet mask, but limit this to once a week.\n",
      "[03:53.920 --> 03:59.040]  The danger is most cute skincare in those brightly coloured bottles can actually damage the\n",
      "[03:59.040 --> 04:05.920]  skin barrier and weren't made for pre-teens. So the brands such as Drunk Elephant, Pixie, Nippon Fab,\n",
      "[04:05.920 --> 04:12.240]  or Glow Recipe can actually make your skin worse. And viral skincare tools, such as GoaShar\n",
      "[04:12.240 --> 04:16.880]  and Jay Verilis can lead to premature aging if you're tugging at the skin. The other viral\n",
      "[04:16.880 --> 04:24.240]  product all over TikTok that is a disaster for pre-teens skin is the ordinary HAPHA exfoliator,\n",
      "[04:24.240 --> 04:29.840]  a Conburner skin and Leater Hyperpigmentation. And that can then sit on the skin for decades.\n",
      "[04:29.920 --> 04:37.600]  The other brand I really dislike for pre-publess skin is Lush. Lush is a full of fragrance,\n",
      "[04:37.600 --> 04:41.840]  but it's packaged in such cute, delicious, almost food-like ways that\n",
      "[04:42.640 --> 04:46.960]  you haven't even my daughter wants to buy it, but it can lead to contact dermatitis. So again,\n",
      "[04:46.960 --> 04:52.800]  I just I devoid. Next we have Makeup. So lip glosses and blushes tend to be the things that they\n",
      "[04:52.800 --> 04:57.840]  like. Have a look at the back for fragrance because it's the same problem. You can get fragrance\n",
      "[04:57.840 --> 05:02.560]  in makeup as well as skincare. And that can lead to contact dermatitis which you definitely\n",
      "[05:02.560 --> 05:11.440]  do not want in children. And the other product I really dislike is a mask such as 7th heaven.\n",
      "[05:11.920 --> 05:19.200]  So that's got Polyvinyl alcohol and a denatured alcohol which can dry the skin. And don't forget\n",
      "[05:19.200 --> 05:24.640]  children's skin from 10 to 13 has lesser amides in it and it's more prone to X-Map. That can\n",
      "[05:24.640 --> 05:28.960]  really strip the skin and it's not one that I would recommend. So those are all the things that I\n",
      "[05:28.960 --> 05:36.960]  don't like. The other thing my daughter asked me for was safe DIY recipes for hair, for skin,\n",
      "[05:36.960 --> 05:42.960]  for masks, and for hydration. So that's something that you also want me to film. I'll be doing it for\n",
      "[05:42.960 --> 05:47.120]  hair anyways. If that's something you want me to film can you write down below please give me more\n",
      "[05:47.120 --> 05:52.800]  DIY recipes that are safer 10 to 13 year olds. I'm in the comment section for one out the launch of\n",
      "[05:52.800 --> 05:56.880]  every single YouTube video. So when you subscribe make sure you hit that notification bell so you\n",
      "[05:56.880 --> 06:01.760]  can come and ask me your questions. Write below is video you want me to make next. See you next time. Bye!\n"
     ]
    }
   ],
   "source": [
    "if os.path.exists(output_directory_external_yt):\n",
    "    filepath = os.path.join(output_directory_external_yt, file_name)\n",
    "    result = model.transcribe(filepath, fp16=False, verbose=True)\n",
    "    "
   ]
  },
  {
   "cell_type": "code",
   "execution_count": null,
   "id": "8813808b",
   "metadata": {},
   "outputs": [],
   "source": []
  },
  {
   "cell_type": "code",
   "execution_count": 29,
   "id": "0f0be916",
   "metadata": {},
   "outputs": [],
   "source": [
    "## checking for directory to store file\n",
    "output_directory_raw_text = \"../data/raw\"\n",
    "\n",
    "if not os.path.exists(output_directory_raw_text):\n",
    "    os.makedirs(output_directory_raw_text)"
   ]
  },
  {
   "cell_type": "code",
   "execution_count": 30,
   "id": "c765621a",
   "metadata": {},
   "outputs": [],
   "source": [
    "\n",
    "with open(os.path.join(output_directory, \"transcrip_dr_v_1.txt\"), \"w\" , encoding=\"utf-8\") as txt:\n",
    "    txt.write(result['text'])"
   ]
  },
  {
   "cell_type": "code",
   "execution_count": 31,
   "id": "71f27e27",
   "metadata": {},
   "outputs": [],
   "source": [
    "txt_doc = pd.read_csv(\"/Volumes/AM/Desktop/Projects/skinCare_llm_qa/data/raw/transcrip_dr_v_1.txt\", delimiter=';')"
   ]
  },
  {
   "cell_type": "code",
   "execution_count": 32,
   "id": "03015158",
   "metadata": {},
   "outputs": [
    {
     "data": {
      "text/html": [
       "<div>\n",
       "<style scoped>\n",
       "    .dataframe tbody tr th:only-of-type {\n",
       "        vertical-align: middle;\n",
       "    }\n",
       "\n",
       "    .dataframe tbody tr th {\n",
       "        vertical-align: top;\n",
       "    }\n",
       "\n",
       "    .dataframe thead th {\n",
       "        text-align: right;\n",
       "    }\n",
       "</style>\n",
       "<table border=\"1\" class=\"dataframe\">\n",
       "  <thead>\n",
       "    <tr style=\"text-align: right;\">\n",
       "      <th></th>\n",
       "      <th>Cute and safe skincare for pre-tunes. As a doctor, cosmetic formulae, and a mum of a 10-year-old, I'm going to be teaching you the best and worst skincare. I'll be teaching you the cute products to buy and which ones to avoid. The key active that we want in our skincare, my favourite products that I buy from my daughter, and of course the routine, step by step, how do you layer it? As you know, none of my videos have ever been sponsored and they will never be sponsored. There's an evidence-based channel. I'm now going to tell you what I do like, starting off with the key ingredients. Your children need ceramides in their skin. They want glycerin, so a humectants, I mean, a whole water in that top layer of skin. Plus you want 19-year-old plantatories to soothe the skin. What you want to avoid are exfoliating acids, fragrance, denigered alcohol, scrub, so physical scrubbing, including dry scrubbing, retinol and lesics for acne, and also you want to avoid high percentage active such as lysinamide. So, for example, the 10% lysinamide from the ordinary, I would avoid. You know, if you want to go for a 2% lysinamide and moisturize, that's fine. It's very strengthening to the skin barrier, but at 10%, it's going to be too harsh. Actually, the fact that physical studies are done between 2 to 5% even for adult skin. So I explained all of this to my ten-year-old daughter and she said, Mummy, can you just find me what you think is good, but in bright and cute packaging. And I said no problem. So my key brands that I would recommend would be Bubbles and Biomell. Having said that, I wouldn't recommend every single product in that range, but I will put together the ones that I love that I would recommend for my daughter and for your children. So I'm going to go through three different routines with you. If you have normal skin, if you have oily skin, or if you have dry skin. And normal skin is if you wash your face and you don't apply any moisturizer one hour later, your skin should still feel quite supple, not too dry and tight and not too oily. That's normal slash combination skin. That's what my daughter has. Then if you want our later having applied moisturizer and the skin feels very tight and uncomfortable, you have dry skin. And if one hour later, your skin is feeling quite oily, it's got a bit of a shine to it, then you have oily skin. So I'm going to tell you the three different routines based on your skin type. So in the AM, I love the Biomagely Cleanser. It's got so much in it, it's got glycerin and it's anti-inflammatory. Follow this up with your bubble moisturizer. And in the morning, you always want to wear your SPF50. Now, I really couldn't find a cute one because I tend to prefer mineral over chemical. It doesn't enter the blood stream, which is why we tend to say to pregnant ladies, make sure that you wearing mineral sunscreen over chemical. So there are two. It's either our one, which is insincable, there's got no white or it's color science. In the PM routine, you want to cleanse the skin and you may want to double cleanse when you want to wash twice. And then because my daughter loves me wearing my own hydrating toner, she asked for a mist. There's a couple that I recommend. I do like the Biomar Balancing Rest, but I also like the one from Centella Cos RX, it's alcohol-free and K Beauty is huge. And in fact, I think our kids don't know about K Beauty more than we do even, but this is one that I would recommend. And then after your mist, always apply your moisturizer. If you have oily skin, I prefer the Biomar Gel Cream. And if you have dry skin, I like the Biomar Rich Cream. And when it comes to sheet masks, be very careful, which ones you choose. The really cute ones are 10 to have fragrance in them, and actually tend to be irritating to your skin. I love wearing sheet masks. I tend to do it once a week. I say go for biodegradable, that's going to be key. And the one that I buy for my daughter, the simple ones. So this one has got nice inner my internet, is very hydrating to the skin. It makes your skin feel plumper. It makes it feel like you've given that extra boost of nourishment to the skin. So you're going to really enjoy doing your sheet mask, but limit this to once a week. The danger is most cute skincare in those brightly coloured bottles can actually damage the skin barrier and weren't made for pre-teens. So the brands such as Drunk Elephant, Pixie, Nippon Fab, or Glow Recipe can actually make your skin worse. And viral skincare tools, such as GoaShar and Jay Verilis can lead to premature aging if you're tugging at the skin. The other viral product all over TikTok that is a disaster for pre-teens skin is the ordinary HAPHA exfoliator, a Conburner skin and Leater Hyperpigmentation. And that can then sit on the skin for decades. The other brand I really dislike for pre-publess skin is Lush. Lush is a full of fragrance, but it's packaged in such cute, delicious, almost food-like ways that you haven't even my daughter wants to buy it, but it can lead to contact dermatitis. So again, I just I devoid. Next we have Makeup. So lip glosses and blushes tend to be the things that they like. Have a look at the back for fragrance because it's the same problem. You can get fragrance in makeup as well as skincare. And that can lead to contact dermatitis which you definitely do not want in children. And the other product I really dislike is a mask such as 7th heaven. So that's got Polyvinyl alcohol and a denatured alcohol which can dry the skin. And don't forget children's skin from 10 to 13 has lesser amides in it and it's more prone to X-Map. That can really strip the skin and it's not one that I would recommend. So those are all the things that I don't like. The other thing my daughter asked me for was safe DIY recipes for hair, for skin, for masks, and for hydration. So that's something that you also want me to film. I'll be doing it for hair anyways. If that's something you want me to film can you write down below please give me more DIY recipes that are safer 10 to 13 year olds. I'm in the comment section for one out the launch of every single YouTube video. So when you subscribe make sure you hit that notification bell so you can come and ask me your questions. Write below is video you want me to make next. See you next time. Bye!</th>\n",
       "    </tr>\n",
       "  </thead>\n",
       "  <tbody>\n",
       "  </tbody>\n",
       "</table>\n",
       "</div>"
      ],
      "text/plain": [
       "Empty DataFrame\n",
       "Columns: [ Cute and safe skincare for pre-tunes. As a doctor, cosmetic formulae, and a mum of a 10-year-old, I'm going to be teaching you the best and worst skincare. I'll be teaching you the cute products to buy and which ones to avoid. The key active that we want in our skincare, my favourite products that I buy from my daughter, and of course the routine, step by step, how do you layer it? As you know, none of my videos have ever been sponsored and they will never be sponsored. There's an evidence-based channel. I'm now going to tell you what I do like, starting off with the key ingredients. Your children need ceramides in their skin. They want glycerin, so a humectants, I mean, a whole water in that top layer of skin. Plus you want 19-year-old plantatories to soothe the skin. What you want to avoid are exfoliating acids, fragrance, denigered alcohol, scrub, so physical scrubbing, including dry scrubbing, retinol and lesics for acne, and also you want to avoid high percentage active such as lysinamide. So, for example, the 10% lysinamide from the ordinary, I would avoid. You know, if you want to go for a 2% lysinamide and moisturize, that's fine. It's very strengthening to the skin barrier, but at 10%, it's going to be too harsh. Actually, the fact that physical studies are done between 2 to 5% even for adult skin. So I explained all of this to my ten-year-old daughter and she said, Mummy, can you just find me what you think is good, but in bright and cute packaging. And I said no problem. So my key brands that I would recommend would be Bubbles and Biomell. Having said that, I wouldn't recommend every single product in that range, but I will put together the ones that I love that I would recommend for my daughter and for your children. So I'm going to go through three different routines with you. If you have normal skin, if you have oily skin, or if you have dry skin. And normal skin is if you wash your face and you don't apply any moisturizer one hour later, your skin should still feel quite supple, not too dry and tight and not too oily. That's normal slash combination skin. That's what my daughter has. Then if you want our later having applied moisturizer and the skin feels very tight and uncomfortable, you have dry skin. And if one hour later, your skin is feeling quite oily, it's got a bit of a shine to it, then you have oily skin. So I'm going to tell you the three different routines based on your skin type. So in the AM, I love the Biomagely Cleanser. It's got so much in it, it's got glycerin and it's anti-inflammatory. Follow this up with your bubble moisturizer. And in the morning, you always want to wear your SPF50. Now, I really couldn't find a cute one because I tend to prefer mineral over chemical. It doesn't enter the blood stream, which is why we tend to say to pregnant ladies, make sure that you wearing mineral sunscreen over chemical. So there are two. It's either our one, which is insincable, there's got no white or it's color science. In the PM routine, you want to cleanse the skin and you may want to double cleanse when you want to wash twice. And then because my daughter loves me wearing my own hydrating toner, she asked for a mist. There's a couple that I recommend. I do like the Biomar Balancing Rest, but I also like the one from Centella Cos RX, it's alcohol-free and K Beauty is huge. And in fact, I think our kids don't know about K Beauty more than we do even, but this is one that I would recommend. And then after your mist, always apply your moisturizer. If you have oily skin, I prefer the Biomar Gel Cream. And if you have dry skin, I like the Biomar Rich Cream. And when it comes to sheet masks, be very careful, which ones you choose. The really cute ones are 10 to have fragrance in them, and actually tend to be irritating to your skin. I love wearing sheet masks. I tend to do it once a week. I say go for biodegradable, that's going to be key. And the one that I buy for my daughter, the simple ones. So this one has got nice inner my internet, is very hydrating to the skin. It makes your skin feel plumper. It makes it feel like you've given that extra boost of nourishment to the skin. So you're going to really enjoy doing your sheet mask, but limit this to once a week. The danger is most cute skincare in those brightly coloured bottles can actually damage the skin barrier and weren't made for pre-teens. So the brands such as Drunk Elephant, Pixie, Nippon Fab, or Glow Recipe can actually make your skin worse. And viral skincare tools, such as GoaShar and Jay Verilis can lead to premature aging if you're tugging at the skin. The other viral product all over TikTok that is a disaster for pre-teens skin is the ordinary HAPHA exfoliator, a Conburner skin and Leater Hyperpigmentation. And that can then sit on the skin for decades. The other brand I really dislike for pre-publess skin is Lush. Lush is a full of fragrance, but it's packaged in such cute, delicious, almost food-like ways that you haven't even my daughter wants to buy it, but it can lead to contact dermatitis. So again, I just I devoid. Next we have Makeup. So lip glosses and blushes tend to be the things that they like. Have a look at the back for fragrance because it's the same problem. You can get fragrance in makeup as well as skincare. And that can lead to contact dermatitis which you definitely do not want in children. And the other product I really dislike is a mask such as 7th heaven. So that's got Polyvinyl alcohol and a denatured alcohol which can dry the skin. And don't forget children's skin from 10 to 13 has lesser amides in it and it's more prone to X-Map. That can really strip the skin and it's not one that I would recommend. So those are all the things that I don't like. The other thing my daughter asked me for was safe DIY recipes for hair, for skin, for masks, and for hydration. So that's something that you also want me to film. I'll be doing it for hair anyways. If that's something you want me to film can you write down below please give me more DIY recipes that are safer 10 to 13 year olds. I'm in the comment section for one out the launch of every single YouTube video. So when you subscribe make sure you hit that notification bell so you can come and ask me your questions. Write below is video you want me to make next. See you next time. Bye!]\n",
       "Index: []"
      ]
     },
     "execution_count": 32,
     "metadata": {},
     "output_type": "execute_result"
    }
   ],
   "source": [
    "txt_doc.head(1)"
   ]
  },
  {
   "cell_type": "code",
   "execution_count": null,
   "id": "8c8eca1b",
   "metadata": {},
   "outputs": [],
   "source": []
  },
  {
   "cell_type": "code",
   "execution_count": null,
   "id": "ae1766b1",
   "metadata": {},
   "outputs": [],
   "source": []
  }
 ],
 "metadata": {
  "kernelspec": {
   "display_name": "Python 3 (ipykernel)",
   "language": "python",
   "name": "python3"
  },
  "language_info": {
   "codemirror_mode": {
    "name": "ipython",
    "version": 3
   },
   "file_extension": ".py",
   "mimetype": "text/x-python",
   "name": "python",
   "nbconvert_exporter": "python",
   "pygments_lexer": "ipython3",
   "version": "3.10.10"
  }
 },
 "nbformat": 4,
 "nbformat_minor": 5
}
