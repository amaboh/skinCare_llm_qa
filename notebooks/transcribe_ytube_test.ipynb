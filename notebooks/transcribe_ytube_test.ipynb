{
 "cells": [
  {
   "cell_type": "code",
   "execution_count": 2,
   "id": "16583cac",
   "metadata": {},
   "outputs": [
    {
     "name": "stdout",
     "output_type": "stream",
     "text": [
      "Collecting pytube\n",
      "  Using cached pytube-15.0.0-py3-none-any.whl (57 kB)\n",
      "Installing collected packages: pytube\n",
      "Successfully installed pytube-15.0.0\n",
      "\n",
      "\u001b[1m[\u001b[0m\u001b[34;49mnotice\u001b[0m\u001b[1;39;49m]\u001b[0m\u001b[39;49m A new release of pip is available: \u001b[0m\u001b[31;49m23.3.2\u001b[0m\u001b[39;49m -> \u001b[0m\u001b[32;49m24.0\u001b[0m\n",
      "\u001b[1m[\u001b[0m\u001b[34;49mnotice\u001b[0m\u001b[1;39;49m]\u001b[0m\u001b[39;49m To update, run: \u001b[0m\u001b[32;49mpip install --upgrade pip\u001b[0m\n"
     ]
    }
   ],
   "source": [
    "!pip install pytube"
   ]
  },
  {
   "cell_type": "code",
   "execution_count": 17,
   "id": "076c7799",
   "metadata": {},
   "outputs": [],
   "source": [
    "from pytube import YouTube\n",
    "import numpy as np"
   ]
  },
  {
   "cell_type": "code",
   "execution_count": 4,
   "id": "8b7f79a3",
   "metadata": {},
   "outputs": [],
   "source": [
    "link = 'https://www.youtube.com/watch?v=nlc_Mk9ct94'"
   ]
  },
  {
   "cell_type": "code",
   "execution_count": 5,
   "id": "3197ffb5",
   "metadata": {},
   "outputs": [],
   "source": [
    "try:\n",
    "    # \n",
    "    yt = YouTube(link)\n",
    "except:\n",
    "    print(\"Connection Error\")"
   ]
  },
  {
   "cell_type": "code",
   "execution_count": 6,
   "id": "d3f8897c",
   "metadata": {},
   "outputs": [
    {
     "data": {
      "text/plain": [
       "[<Stream: itag=\"18\" mime_type=\"video/mp4\" res=\"360p\" fps=\"24fps\" vcodec=\"avc1.42001E\" acodec=\"mp4a.40.2\" progressive=\"True\" type=\"video\">, <Stream: itag=\"22\" mime_type=\"video/mp4\" res=\"720p\" fps=\"24fps\" vcodec=\"avc1.64001F\" acodec=\"mp4a.40.2\" progressive=\"True\" type=\"video\">, <Stream: itag=\"137\" mime_type=\"video/mp4\" res=\"1080p\" fps=\"24fps\" vcodec=\"avc1.640028\" progressive=\"False\" type=\"video\">, <Stream: itag=\"136\" mime_type=\"video/mp4\" res=\"720p\" fps=\"24fps\" vcodec=\"avc1.4d401f\" progressive=\"False\" type=\"video\">, <Stream: itag=\"135\" mime_type=\"video/mp4\" res=\"480p\" fps=\"24fps\" vcodec=\"avc1.4d401e\" progressive=\"False\" type=\"video\">, <Stream: itag=\"134\" mime_type=\"video/mp4\" res=\"360p\" fps=\"24fps\" vcodec=\"avc1.4d401e\" progressive=\"False\" type=\"video\">, <Stream: itag=\"133\" mime_type=\"video/mp4\" res=\"240p\" fps=\"24fps\" vcodec=\"avc1.4d4015\" progressive=\"False\" type=\"video\">, <Stream: itag=\"160\" mime_type=\"video/mp4\" res=\"144p\" fps=\"24fps\" vcodec=\"avc1.4d400c\" progressive=\"False\" type=\"video\">, <Stream: itag=\"139\" mime_type=\"audio/mp4\" abr=\"48kbps\" acodec=\"mp4a.40.5\" progressive=\"False\" type=\"audio\">, <Stream: itag=\"140\" mime_type=\"audio/mp4\" abr=\"128kbps\" acodec=\"mp4a.40.2\" progressive=\"False\" type=\"audio\">]"
      ]
     },
     "execution_count": 6,
     "metadata": {},
     "output_type": "execute_result"
    }
   ],
   "source": [
    "yt.streams.filter(file_extension='mp4')"
   ]
  },
  {
   "cell_type": "code",
   "execution_count": 7,
   "id": "ed2215ee",
   "metadata": {},
   "outputs": [],
   "source": [
    "stream = yt.streams.get_by_itag(139)"
   ]
  },
  {
   "cell_type": "code",
   "execution_count": 8,
   "id": "f9809bf4",
   "metadata": {},
   "outputs": [
    {
     "data": {
      "text/plain": [
       "'/Volumes/AM/Desktop/Projects/skinCare_llm_qa/notebooks/GoogleImagen.mp4'"
      ]
     },
     "execution_count": 8,
     "metadata": {},
     "output_type": "execute_result"
    }
   ],
   "source": [
    "stream.download('', \"GoogleImagen.mp4\")"
   ]
  },
  {
   "cell_type": "code",
   "execution_count": 12,
   "id": "ff4c3881",
   "metadata": {},
   "outputs": [
    {
     "name": "stdout",
     "output_type": "stream",
     "text": [
      "Requirement already satisfied: openai-whisper in /Users/ama/mambaforge/lib/python3.10/site-packages (20231117)\n",
      "Requirement already satisfied: numba in /Users/ama/mambaforge/lib/python3.10/site-packages (from openai-whisper) (0.59.0)\n",
      "Requirement already satisfied: numpy in /Users/ama/mambaforge/lib/python3.10/site-packages (from openai-whisper) (1.24.3)\n",
      "Requirement already satisfied: torch in /Users/ama/mambaforge/lib/python3.10/site-packages (from openai-whisper) (2.0.0)\n",
      "Requirement already satisfied: tqdm in /Users/ama/mambaforge/lib/python3.10/site-packages (from openai-whisper) (4.66.1)\n",
      "Requirement already satisfied: more-itertools in /Users/ama/mambaforge/lib/python3.10/site-packages (from openai-whisper) (10.2.0)\n",
      "Requirement already satisfied: tiktoken in /Users/ama/mambaforge/lib/python3.10/site-packages (from openai-whisper) (0.6.0)\n",
      "Requirement already satisfied: llvmlite<0.43,>=0.42.0dev0 in /Users/ama/mambaforge/lib/python3.10/site-packages (from numba->openai-whisper) (0.42.0)\n",
      "Requirement already satisfied: regex>=2022.1.18 in /Users/ama/mambaforge/lib/python3.10/site-packages (from tiktoken->openai-whisper) (2023.8.8)\n",
      "Requirement already satisfied: requests>=2.26.0 in /Users/ama/mambaforge/lib/python3.10/site-packages (from tiktoken->openai-whisper) (2.31.0)\n",
      "Requirement already satisfied: filelock in /Users/ama/mambaforge/lib/python3.10/site-packages (from torch->openai-whisper) (3.12.3)\n",
      "Requirement already satisfied: typing-extensions in /Users/ama/mambaforge/lib/python3.10/site-packages (from torch->openai-whisper) (4.9.0)\n",
      "Requirement already satisfied: sympy in /Users/ama/mambaforge/lib/python3.10/site-packages (from torch->openai-whisper) (1.12)\n",
      "Requirement already satisfied: networkx in /Users/ama/mambaforge/lib/python3.10/site-packages (from torch->openai-whisper) (3.1)\n",
      "Requirement already satisfied: jinja2 in /Users/ama/mambaforge/lib/python3.10/site-packages (from torch->openai-whisper) (3.1.2)\n",
      "Requirement already satisfied: charset-normalizer<4,>=2 in /Users/ama/mambaforge/lib/python3.10/site-packages (from requests>=2.26.0->tiktoken->openai-whisper) (3.2.0)\n",
      "Requirement already satisfied: idna<4,>=2.5 in /Users/ama/mambaforge/lib/python3.10/site-packages (from requests>=2.26.0->tiktoken->openai-whisper) (3.4)\n",
      "Requirement already satisfied: urllib3<3,>=1.21.1 in /Users/ama/mambaforge/lib/python3.10/site-packages (from requests>=2.26.0->tiktoken->openai-whisper) (1.26.16)\n",
      "Requirement already satisfied: certifi>=2017.4.17 in /Users/ama/mambaforge/lib/python3.10/site-packages (from requests>=2.26.0->tiktoken->openai-whisper) (2022.6.15)\n",
      "Requirement already satisfied: MarkupSafe>=2.0 in /Users/ama/mambaforge/lib/python3.10/site-packages (from jinja2->torch->openai-whisper) (2.1.3)\n",
      "Requirement already satisfied: mpmath>=0.19 in /Users/ama/mambaforge/lib/python3.10/site-packages (from sympy->torch->openai-whisper) (1.3.0)\n",
      "\n",
      "\u001b[1m[\u001b[0m\u001b[34;49mnotice\u001b[0m\u001b[1;39;49m]\u001b[0m\u001b[39;49m A new release of pip is available: \u001b[0m\u001b[31;49m23.3.2\u001b[0m\u001b[39;49m -> \u001b[0m\u001b[32;49m24.0\u001b[0m\n",
      "\u001b[1m[\u001b[0m\u001b[34;49mnotice\u001b[0m\u001b[1;39;49m]\u001b[0m\u001b[39;49m To update, run: \u001b[0m\u001b[32;49mpip install --upgrade pip\u001b[0m\n",
      "Requirement already satisfied: jiwer in /Users/ama/mambaforge/lib/python3.10/site-packages (3.0.3)\n",
      "Requirement already satisfied: click<9.0.0,>=8.1.3 in /Users/ama/mambaforge/lib/python3.10/site-packages (from jiwer) (8.1.7)\n",
      "Requirement already satisfied: rapidfuzz<4,>=3 in /Users/ama/mambaforge/lib/python3.10/site-packages (from jiwer) (3.6.1)\n",
      "\n",
      "\u001b[1m[\u001b[0m\u001b[34;49mnotice\u001b[0m\u001b[1;39;49m]\u001b[0m\u001b[39;49m A new release of pip is available: \u001b[0m\u001b[31;49m23.3.2\u001b[0m\u001b[39;49m -> \u001b[0m\u001b[32;49m24.0\u001b[0m\n",
      "\u001b[1m[\u001b[0m\u001b[34;49mnotice\u001b[0m\u001b[1;39;49m]\u001b[0m\u001b[39;49m To update, run: \u001b[0m\u001b[32;49mpip install --upgrade pip\u001b[0m\n"
     ]
    }
   ],
   "source": [
    "! pip install -U openai-whisper\n",
    "! pip install jiwer"
   ]
  },
  {
   "cell_type": "code",
   "execution_count": 18,
   "id": "a7de6972",
   "metadata": {},
   "outputs": [
    {
     "name": "stdout",
     "output_type": "stream",
     "text": [
      "Model is multilingual and has 71,825,920 parameters.\n"
     ]
    }
   ],
   "source": [
    "import whisper\n",
    "\n",
    "model = whisper.load_model(\"base\")\n",
    "print(\n",
    "    f\"Model is {'multilingual' if model.is_multilingual else 'English-only'} \"\n",
    "    f\"and has {sum(np.prod(p.shape) for p in model.parameters()):,} parameters.\"\n",
    ")"
   ]
  },
  {
   "cell_type": "code",
   "execution_count": 19,
   "id": "8813808b",
   "metadata": {},
   "outputs": [
    {
     "name": "stderr",
     "output_type": "stream",
     "text": [
      "/Users/ama/mambaforge/lib/python3.10/site-packages/whisper/transcribe.py:126: UserWarning: FP16 is not supported on CPU; using FP32 instead\n",
      "  warnings.warn(\"FP16 is not supported on CPU; using FP32 instead\")\n"
     ]
    },
    {
     "name": "stdout",
     "output_type": "stream",
     "text": [
      " Cute and safe skincare for pre-tunes. As a doctor, cosmetic formulae, and a mum of a 10-year-old, I'm going to be teaching you the best and worst skincare. I'll be teaching you the cute products to buy and which ones to avoid. The key active that we want in our skincare, my favourite products that I buy from my daughter, and of course the routine, step by step, how do you layer it? As you know, none of my videos have ever been sponsored and they will never be sponsored. There's an evidence-based channel. I'm now going to tell you what I do like, starting off with the key ingredients. Your children need ceramides in their skin. They want glycerin, so a humectants, I mean, a whole water in that top layer of skin. Plus you want 19-year-old plantatories to soothe the skin. What you want to avoid are exfoliating acids, fragrance, denigered alcohol, scrub, so physical scrubbing, including dry scrubbing, retinol and lesics for acne, and also you want to avoid high percentage active such as lysinamide. So, for example, the 10% lysinamide from the ordinary, I would avoid. You know, if you want to go for a 2% lysinamide and moisturize, that's fine. It's very strengthening to the skin barrier, but at 10%, it's going to be too harsh. Actually, the fact that physical studies are done between 2 to 5% even for adult skin. So I explained all of this to my ten-year-old daughter and she said, Mummy, can you just find me what you think is good, but in bright and cute packaging. And I said no problem. So my key brands that I would recommend would be Bubbles and Biomell. Having said that, I wouldn't recommend every single product in that range, but I will put together the ones that I love that I would recommend for my daughter and for your children. So I'm going to go through three different routines with you. If you have normal skin, if you have oily skin, or if you have dry skin. And normal skin is if you wash your face and you don't apply any moisturizer one hour later, your skin should still feel quite supple, not too dry and tight and not too oily. That's normal slash combination skin. That's what my daughter has. Then if you want our later having applied moisturizer and the skin feels very tight and uncomfortable, you have dry skin. And if one hour later, your skin is feeling quite oily, it's got a bit of a shine to it, then you have oily skin. So I'm going to tell you the three different routines based on your skin type. So in the AM, I love the Biomagely Cleanser. It's got so much in it, it's got glycerin and it's anti-inflammatory. Follow this up with your bubble moisturizer. And in the morning, you always want to wear your SPF50. Now, I really couldn't find a cute one because I tend to prefer mineral over chemical. It doesn't enter the blood stream, which is why we tend to say to pregnant ladies, make sure that you wearing mineral sunscreen over chemical. So there are two. It's either our one, which is insincable, there's got no white or it's color science. In the PM routine, you want to cleanse the skin and you may want to double cleanse when you want to wash twice. And then because my daughter loves me wearing my own hydrating toner, she asked for a mist. There's a couple that I recommend. I do like the Biomar Balancing Rest, but I also like the one from Centella Cos RX, it's alcohol-free and K Beauty is huge. And in fact, I think our kids don't know about K Beauty more than we do even, but this is one that I would recommend. And then after your mist, always apply your moisturizer. If you have oily skin, I prefer the Biomar Gel Cream. And if you have dry skin, I like the Biomar Rich Cream. And when it comes to sheet masks, be very careful, which ones you choose. The really cute ones are 10 to have fragrance in them, and actually tend to be irritating to your skin. I love wearing sheet masks. I tend to do it once a week. I say go for biodegradable, that's going to be key. And the one that I buy for my daughter, the simple ones. So this one has got nice inner my internet, is very hydrating to the skin. It makes your skin feel plumper. It makes it feel like you've given that extra boost of nourishment to the skin. So you're going to really enjoy doing your sheet mask, but limit this to once a week. The danger is most cute skincare in those brightly coloured bottles can actually damage the skin barrier and weren't made for pre-teens. So the brands such as Drunk Elephant, Pixie, Nippon Fab, or Glow Recipe can actually make your skin worse. And viral skincare tools, such as GoaShar and Jay Verilis can lead to premature aging if you're tugging at the skin. The other viral product all over TikTok that is a disaster for pre-teens skin is the ordinary HAPHA exfoliator, a Conburner skin and Leater Hyperpigmentation. And that can then sit on the skin for decades. The other brand I really dislike for pre-publess skin is Lush. Lush is a full of fragrance, but it's packaged in such cute, delicious, almost food-like ways that you haven't even my daughter wants to buy it, but it can lead to contact dermatitis. So again, I just I devoid. Next we have Makeup. So lip glosses and blushes tend to be the things that they like. Have a look at the back for fragrance because it's the same problem. You can get fragrance in makeup as well as skincare. And that can lead to contact dermatitis which you definitely do not want in children. And the other product I really dislike is a mask such as 7th heaven. So that's got Polyvinyl alcohol and a denatured alcohol which can dry the skin. And don't forget children's skin from 10 to 13 has lesser amides in it and it's more prone to X-Map. That can really strip the skin and it's not one that I would recommend. So those are all the things that I don't like. The other thing my daughter asked me for was safe DIY recipes for hair, for skin, for masks, and for hydration. So that's something that you also want me to film. I'll be doing it for hair anyways. If that's something you want me to film can you write down below please give me more DIY recipes that are safer 10 to 13 year olds. I'm in the comment section for one out the launch of every single YouTube video. So when you subscribe make sure you hit that notification bell so you can come and ask me your questions. Write below is video you want me to make next. See you next time. Bye!\n"
     ]
    }
   ],
   "source": [
    "result = model.transcribe(\"GoogleImagen.mp4\")\n",
    "print(result['text'])"
   ]
  },
  {
   "cell_type": "code",
   "execution_count": null,
   "id": "c765621a",
   "metadata": {},
   "outputs": [],
   "source": []
  },
  {
   "cell_type": "code",
   "execution_count": null,
   "id": "71f27e27",
   "metadata": {},
   "outputs": [],
   "source": []
  },
  {
   "cell_type": "code",
   "execution_count": null,
   "id": "03015158",
   "metadata": {},
   "outputs": [],
   "source": []
  },
  {
   "cell_type": "code",
   "execution_count": null,
   "id": "8c8eca1b",
   "metadata": {},
   "outputs": [],
   "source": []
  },
  {
   "cell_type": "code",
   "execution_count": null,
   "id": "ae1766b1",
   "metadata": {},
   "outputs": [],
   "source": []
  }
 ],
 "metadata": {
  "kernelspec": {
   "display_name": "Python 3 (ipykernel)",
   "language": "python",
   "name": "python3"
  },
  "language_info": {
   "codemirror_mode": {
    "name": "ipython",
    "version": 3
   },
   "file_extension": ".py",
   "mimetype": "text/x-python",
   "name": "python",
   "nbconvert_exporter": "python",
   "pygments_lexer": "ipython3",
   "version": "3.10.10"
  }
 },
 "nbformat": 4,
 "nbformat_minor": 5
}
