{
 "cells": [
  {
   "cell_type": "code",
   "execution_count": null,
   "id": "4263ef26",
   "metadata": {},
   "outputs": [],
   "source": [
    "#from llama_index.core.node_parser import SentenceSplitter"
   ]
  },
  {
   "cell_type": "code",
   "execution_count": null,
   "id": "6ca0e273-523a-49e1-a262-4c3d77e8cd6a",
   "metadata": {},
   "outputs": [],
   "source": [
    "!which python"
   ]
  },
  {
   "cell_type": "code",
   "execution_count": null,
   "id": "52c99d97-c1fe-4287-a0d4-6a68701b3eb5",
   "metadata": {},
   "outputs": [],
   "source": [
    "! pip install -U weaviate-client\n",
    "! pip install pytube\n",
    "! pip install youtube_transcript_api\n",
    "! pip install llama_hub\n",
    "! pip install llama_index"
   ]
  },
  {
   "cell_type": "code",
   "execution_count": 6,
   "id": "eaa9aae0",
   "metadata": {},
   "outputs": [],
   "source": [
    "# running weaviate \n",
    "import os\n",
    "import json\n",
    "import weaviate\n",
    "\n",
    "client = weaviate.Client(\"http://localhost:8080\")\n"
   ]
  },
  {
   "cell_type": "code",
   "execution_count": null,
   "id": "f344e638",
   "metadata": {},
   "outputs": [],
   "source": [
    "#from llama_index import SimpleDirectoryReader\n",
    "\n",
    "#derm_doc = SimpleDirectoryReader('../data/external').load_data()"
   ]
  },
  {
   "cell_type": "code",
   "execution_count": null,
   "id": "0d28ff5f",
   "metadata": {},
   "outputs": [],
   "source": [
    "import whisper\n",
    "\n",
    "model = whisper.load_model(\"base\")\n",
    "\n",
    "playlist_link = \"https://www.youtube.com/playlist?list=PLRcGnj2vLUduM8elSDybdOVv4NO-nAz_9\"\n",
    "\n",
    "\n",
    "# Create a Playlist object\n",
    "playlist = Playlist(playlist_link)\n",
    "\n",
    "all_docs = []\n",
    "\n",
    "\n",
    "for video_url in playlist.video_urls[:50]:\n",
    "    try:\n",
    "        # Transcribe using Whisper API\n",
    "        transcript = transcribe(url=video_url, language=\"en\", task=\"transcribe\")\n",
    "        \n",
    "        all_docs.extend(transcript)\n",
    "    except Exception as e:\n",
    "        print(f\"An error occurred for video {video_url}: {e}\")"
   ]
  },
  {
   "cell_type": "code",
   "execution_count": 2,
   "id": "6bec7cf4",
   "metadata": {},
   "outputs": [
    {
     "name": "stdout",
     "output_type": "stream",
     "text": [
      "Transcripts are disabled for the video: https://www.youtube.com/watch?v=YfZZRIjfp6E\n"
     ]
    }
   ],
   "source": [
    "from pytube import Playlist\n",
    "from llama_hub.youtube_transcript import YoutubeTranscriptReader\n",
    "#from llama-index-readers-youtube-transcript import YoutubeTranscriptReader\n",
    "from youtube_transcript_api import TranscriptsDisabled\n",
    "\n",
    "\n",
    "loader = YoutubeTranscriptReader()\n",
    "playlist_link = \"https://www.youtube.com/playlist?list=PLRcGnj2vLUduM8elSDybdOVv4NO-nAz_9\"\n",
    "\n",
    "\n",
    "# Create a Playlist object\n",
    "playlist = Playlist(playlist_link)\n",
    "\n",
    "all_docs = []\n",
    "for video_url in playlist.video_urls[:50]:\n",
    "    try:\n",
    "        # Load transcript for the current video\n",
    "        documents = loader.load_data(ytlinks=[video_url])\n",
    "        # Process the transcript as needed\n",
    "        all_docs.extend(documents)\n",
    "    except TranscriptsDisabled:\n",
    "        print(f\"Transcripts are disabled for the video: {video_url}\")\n",
    "    except Exception as e:\n",
    "        print(f\"An error occurred for video {video_url}: {e}\")"
   ]
  },
  {
   "cell_type": "code",
   "execution_count": 7,
   "id": "7ae153d8-b4bd-4c26-ba22-18a43ed6b51f",
   "metadata": {},
   "outputs": [
    {
     "name": "stdout",
     "output_type": "stream",
     "text": [
      "Transcripts saved to: ../data/interim/transcripts.json\n"
     ]
    }
   ],
   "source": [
    "output_folder = \"../data/interim\"\n",
    "os.makedirs(output_folder, exist_ok=True)\n",
    "\n",
    "\n",
    "#output file path\n",
    "output_file_path = os.path.join(output_folder, \"transcripts.json\")\n",
    "\n",
    "# list to store dictionaries for each document\n",
    "json_data = []\n",
    "\n",
    "# Iterate through all_docs and create a dictionary for each document\n",
    "for doc in all_docs:\n",
    "    doc_dict = {\"Doc ID\": doc.doc_id, \"Text\": doc.text}\n",
    "    json_data.append(doc_dict)\n",
    "\n",
    "# Save the list of dictionaries to a JSON file\n",
    "with open(output_file_path, \"w\", encoding=\"utf-8\") as json_file:\n",
    "    json.dump(json_data, json_file, ensure_ascii=False, indent=2)\n",
    "\n",
    "# Print a message indicating the successful save\n",
    "print(f\"Transcripts saved to: {output_file_path}\")"
   ]
  },
  {
   "cell_type": "code",
   "execution_count": null,
   "id": "0f587abb",
   "metadata": {},
   "outputs": [],
   "source": [
    "from llama_index.core.node_parser import SentenceSplitter"
   ]
  },
  {
   "cell_type": "code",
   "execution_count": null,
   "id": "ef639978",
   "metadata": {},
   "outputs": [],
   "source": [
    "#from llama_index.core import Document, VectorStoreIndex"
   ]
  },
  {
   "cell_type": "code",
   "execution_count": null,
   "id": "2dbf16ea",
   "metadata": {},
   "outputs": [],
   "source": []
  },
  {
   "cell_type": "code",
   "execution_count": null,
   "id": "257aedcd",
   "metadata": {},
   "outputs": [],
   "source": [
    "\n",
    "\n",
    "#documentts = [Document(text=t) for t in all_docs]"
   ]
  },
  {
   "cell_type": "code",
   "execution_count": null,
   "id": "5d314000",
   "metadata": {},
   "outputs": [],
   "source": [
    "# creating nodes \n",
    "from llama_index.node_parser import SimpleNodeParser\n",
    "\n",
    "parser = SimpleNodeParser.from_defaults(chunk_size=1024, chunk_overlap=20)\n",
    "nodes = parser.get_nodes_from_documents(all_docs)"
   ]
  },
  {
   "cell_type": "code",
   "execution_count": null,
   "id": "1e3cff10",
   "metadata": {},
   "outputs": [],
   "source": [
    "import qdrant_client\n",
    "from llama_index import (\n",
    "    VectorStoreIndex,\n",
    "    ServiceContext,\n",
    ")"
   ]
  },
  {
   "cell_type": "code",
   "execution_count": null,
   "id": "34b17d62",
   "metadata": {},
   "outputs": [],
   "source": [
    "\n",
    "#from llama_index.vector_stores import WeaviateVectorStore\n",
    "from llama_index import VectorStoreIndex, StorageContext\n",
    "from llama_index.storage.storage_context import StorageContext\n",
    "from llama_index.vector_stores.qdrant import QdrantVectorStore\n",
    "import os "
   ]
  },
  {
   "cell_type": "code",
   "execution_count": null,
   "id": "568f8805",
   "metadata": {},
   "outputs": [],
   "source": [
    "client = qdrant_client.QdrantClient(\n",
    "    path=\"./qdrant_data\"\n",
    ")\n",
    "\n",
    "\n",
    "vector_store = QdrantVectorStore(client=client, collection_name=\"tweets\")\n",
    "storage_context = StorageContext.from_defaults(vector_store=vector_store)"
   ]
  },
  {
   "cell_type": "code",
   "execution_count": null,
   "id": "0ecccec8",
   "metadata": {},
   "outputs": [],
   "source": [
    "## Weaviate\n",
    "\n",
    "# construct vector store for embeddings\n",
    "vector_store = WeaviateVectorStore(weaviate_client= client, index_name=\"Derm\",  text_key=\"content\")\n",
    "\n",
    "# setting up the storage for the embeddings\n",
    "storage_context = StorageContext.from_defaults(vector_store=vector_store)\n",
    "\n",
    "# set up the index\n",
    "#index = VectorStoreIndex.from_documents(nodes, storage_context= storage_context)\n"
   ]
  },
  {
   "cell_type": "code",
   "execution_count": null,
   "id": "5d8285af",
   "metadata": {},
   "outputs": [],
   "source": [
    "from llama_index.llms import Ollama\n",
    "llm = Ollama(model=\"mistral\")\n",
    "service_context = ServiceContext.from_defaults(llm=llm,embed_model=\"local\")\n"
   ]
  },
  {
   "cell_type": "code",
   "execution_count": null,
   "id": "4125de9f",
   "metadata": {},
   "outputs": [],
   "source": [
    "# create the index; this will embed the documents and store them in the vector store\n",
    "index = VectorStoreIndex.from_documents(all_docs,service_context=service_context,storage_context=storage_context)\n"
   ]
  },
  {
   "cell_type": "code",
   "execution_count": null,
   "id": "149ef3de",
   "metadata": {},
   "outputs": [],
   "source": [
    "# query the index\n",
    "query_engine = index.as_query_engine()\n",
    "response = query_engine.query(\"What is this document about?. Give detail\")\n",
    "print(response)\n"
   ]
  },
  {
   "cell_type": "code",
   "execution_count": null,
   "id": "0ec4be13",
   "metadata": {},
   "outputs": [],
   "source": [
    "import weaviate\n",
    "from llama_index.readers.weaviate.reader import WeaviateReader\n",
    "\n",
    "reader = WeaviateReader(\"http://localhost:8080\")\n",
    "\n",
    "documents = reader.load_data(\n",
    "     class_name=\"BlogPost\", \n",
    "     properties=[\"content\"], \n",
    "     separate_documents=True\n",
    ")\n"
   ]
  },
  {
   "cell_type": "code",
   "execution_count": null,
   "id": "1f838441",
   "metadata": {},
   "outputs": [],
   "source": [
    "\n",
    "from llama_index import ListIndex\n",
    "\n",
    "\n",
    "client = weaviate.Client(url=\"https://llamaindex-episode1-samtusdu.weaviate.network\")\n",
    "\n",
    "reader = WeaviateReader(\"https://llamaindex-episode1-samtusdu.weaviate.network\")\n",
    "\n",
    "query = \"\"\"\n",
    "{\n",
    "  Get {\n",
    "    BlogPost (\n",
    "      bm25: {\n",
    "        query: \"What is ref2vec\"\n",
    "        properties: [\"content\"]\n",
    "      },\n",
    "      limit: 2\n",
    "    ) {\n",
    "      content\n",
    "    }\n",
    "  }\n",
    "}\n",
    "\"\"\"\n",
    "\n",
    "documents = reader.load_data(graphql_query=query, separate_documents=True)\n",
    "\n",
    "index = ListIndex.from_documents(documents)\n",
    "\n",
    "\n",
    "query_engine = index.as_query_engine(response_mode=\"compact\")\n",
    "response = query_engine.query(\"what is ref2vec\")\n",
    "print(response)"
   ]
  }
 ],
 "metadata": {
  "kernelspec": {
   "display_name": "Python 3 (ipykernel)",
   "language": "python",
   "name": "python3"
  },
  "language_info": {
   "codemirror_mode": {
    "name": "ipython",
    "version": 3
   },
   "file_extension": ".py",
   "mimetype": "text/x-python",
   "name": "python",
   "nbconvert_exporter": "python",
   "pygments_lexer": "ipython3",
   "version": "3.10.10"
  }
 },
 "nbformat": 4,
 "nbformat_minor": 5
}
